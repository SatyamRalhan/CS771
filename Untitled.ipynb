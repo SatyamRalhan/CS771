{
 "cells": [
  {
   "cell_type": "code",
   "execution_count": 29,
   "metadata": {},
   "outputs": [
    {
     "name": "stdout",
     "output_type": "stream",
     "text": [
      "(20000, 21)\n"
     ]
    }
   ],
   "source": [
    "import numpy as np\n",
    "from cs771 import genSyntheticData as gsd\n",
    "from cs771 import plotData as pd\n",
    "from matplotlib import pyplot as plt\n",
    "import time as tm\n",
    "import random\n",
    "\n",
    "final=np.loadtxt(open(\"data\",'r'),delimiter=\" \")\n",
    "print (np.shape(final))\n",
    "X=final[:15000,1:]\n",
    "y=final[:15000,0]\n",
    "testX=final[15001:,1:]\n",
    "testy=final[15001:,0]"
   ]
  },
  {
   "cell_type": "code",
   "execution_count": 39,
   "metadata": {},
   "outputs": [
    {
     "name": "stdout",
     "output_type": "stream",
     "text": [
      "[-1.85804478e-05 -4.86118275e-06 -1.82335643e-06  4.57757827e-07\n",
      "  1.94476668e-07 -4.85994113e-06 -2.16130694e-06 -9.21024903e-06\n",
      " -4.05131333e-06 -1.67051083e-06 -2.87917395e-06 -4.98153666e-06\n",
      " -1.12311419e-05  2.70433330e-07  4.78491463e-06  2.43973535e-06\n",
      " -1.93358599e-06  6.21722912e-07 -5.50123928e-06 -2.42938747e-07\n",
      "  0.00000000e+00]\n"
     ]
    }
   ],
   "source": [
    "def getCSVMSGrad( theta ):\n",
    "    w = theta[0:-1]\n",
    "    b = theta[-1]\n",
    "    n = y.size\n",
    "    i = random.randint( 0, n-1 )\n",
    "    x = X[i,:]\n",
    "    discriminant = (x.dot( w )) * y[i]\n",
    "    g = 0\n",
    "    if discriminant < 1:\n",
    "        g = -1\n",
    "#     delb = C * g * y[i]\n",
    "    delw = w + 2 * C * n * (x * g) * y[i] * (1-discriminant)\n",
    "    return np.append( delw, 0 )\n",
    "\n",
    "# Quite standard for strongly convex but non-smooth objectives like CSVM\n",
    "def getStepLength( grad, t ):\n",
    "    return eta/(t+1)\n",
    "\n",
    "def getCSVMObjVal( theta ):\n",
    "    w = theta[0:-1]\n",
    "    b = theta[-1]\n",
    "#     hingeLoss = np.maximum( 1 - np.multiply( (X.dot( w ) + b), y ), 0 )\n",
    "    hingeLoss = np.maximum( 1 - np.multiply( (X.dot( w )), y ), 0 )\n",
    "    return 0.5 * w.dot( w ) + C * np.sum( hingeLoss )\n",
    "\n",
    "# Given a gradient oracle, a step length oracle, an initialization,\n",
    "# perform GD for a specified number of steps (horizon)\n",
    "# An \"oracle\" is a fancy name for a function that does a certain job perfectly\n",
    "def doGD( gradFunc, stepFunc, init, horizon = 10 ):\n",
    "#     objValSeries = np.zeros( (horizon,) )\n",
    "#     timeSeries = np.zeros( (horizon,) )\n",
    "#     totTime = 0\n",
    "    theta = init\n",
    "    cumulative = init\n",
    "    for t in range( horizon ):\n",
    "#         tic = tm.perf_counter()\n",
    "        delta = gradFunc( theta )\n",
    "        theta = theta - stepFunc( delta, t+1 ) * delta\n",
    "        cumulative = cumulative + theta\n",
    "#         toc = tm.perf_counter()\n",
    "#         totTime = totTime + (toc - tic)\n",
    "#         objValSeries[t] = getCSVMObjVal( cumulative/(t+2) )\n",
    "#         timeSeries[t] = totTime\n",
    "#     return (cumulative/(horizon+1), objValSeries, timeSeries)\n",
    "    return cumulative/(horizon+1)\n",
    "\n",
    "def mySVM( X ):\n",
    "    return X.dot(w) + b\n",
    "\n",
    "d=20\n",
    "C = 0.00001\n",
    "eta = 0.00005\n",
    "# B = 10\n",
    "# (theta_SGD, obj_SGD, time_SGD) = doGD( getCSVMSGrad, getStepLength, np.zeros( (d+1,) ), horizon = 500 )\n",
    "theta_SGD=doGD( getCSVMSGrad, getStepLength, np.zeros( (d+1,) ), horizon = 1000 )\n",
    "print (theta_SGD)"
   ]
  },
  {
   "cell_type": "code",
   "execution_count": 40,
   "metadata": {},
   "outputs": [
    {
     "name": "stdout",
     "output_type": "stream",
     "text": [
      "0.9013802760552111\n"
     ]
    }
   ],
   "source": [
    "w=theta_SGD[0:-1]\n",
    "testpoint=np.shape(testX)[0]\n",
    "sum=0\n",
    "dottest=np.dot(testX,w)\n",
    "# print (np.shape(testy))\n",
    "for i in range(testpoint):\n",
    "    if (dottest[i]*testy[i] >= 0 ):\n",
    "        sum += 1\n",
    "print (sum/testpoint)"
   ]
  },
  {
   "cell_type": "code",
   "execution_count": 24,
   "metadata": {},
   "outputs": [
    {
     "data": {
      "text/plain": [
       "array([[11],\n",
       "       [-3]])"
      ]
     },
     "execution_count": 24,
     "metadata": {},
     "output_type": "execute_result"
    }
   ],
   "source": [
    "a=np.array([[1,2,3],[-1,-2,1]])\n",
    "b=np.array([[1],[2],[2]])\n",
    "np.dot(a,b)"
   ]
  },
  {
   "cell_type": "code",
   "execution_count": null,
   "metadata": {},
   "outputs": [],
   "source": []
  }
 ],
 "metadata": {
  "kernelspec": {
   "display_name": "Python 3",
   "language": "python",
   "name": "python3"
  },
  "language_info": {
   "codemirror_mode": {
    "name": "ipython",
    "version": 3
   },
   "file_extension": ".py",
   "mimetype": "text/x-python",
   "name": "python",
   "nbconvert_exporter": "python",
   "pygments_lexer": "ipython3",
   "version": "3.7.3"
  }
 },
 "nbformat": 4,
 "nbformat_minor": 2
}
