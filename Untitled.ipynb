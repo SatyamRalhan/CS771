{
 "cells": [
  {
   "cell_type": "code",
   "execution_count": 10,
   "metadata": {},
   "outputs": [
    {
     "name": "stdout",
     "output_type": "stream",
     "text": [
      "(20000, 21)\n"
     ]
    }
   ],
   "source": [
    "import numpy as np\n",
    "import numpy.linalg as LA\n",
    "from cs771 import genSyntheticData as gsd\n",
    "from cs771 import plotData as pd\n",
    "from matplotlib import pyplot as plt\n",
    "import time as tm\n",
    "import random\n",
    "import math\n",
    "\n",
    "final=np.loadtxt(open(\"data\",'r'),delimiter=\" \")\n",
    "print (np.shape(final))\n",
    "X=final[:15000,1:]\n",
    "y=final[:15000,0]\n",
    "testX=final[15001:,1:]\n",
    "testy=final[15001:,0]"
   ]
  },
  {
   "cell_type": "code",
   "execution_count": 15,
   "metadata": {},
   "outputs": [
    {
     "name": "stdout",
     "output_type": "stream",
     "text": [
      "[-2.29205520e-05 -6.27143596e-06 -2.88091037e-07 -6.48452762e-06\n",
      "  2.97089640e-06 -6.04564970e-06 -1.88987616e-06 -1.47725030e-05\n",
      " -6.56144386e-06 -1.36360391e-06  6.79634399e-08 -4.12485443e-06\n",
      " -4.90685862e-06  1.57943194e-06 -1.67300346e-06  5.20174024e-06\n",
      " -1.16457809e-05  4.72181100e-06 -6.80947725e-06  1.44622112e-06\n",
      " -7.01590519e-05]\n",
      "[-1.48417316e-04 -5.06326848e-05  6.70828665e-06 -3.51293453e-05\n",
      "  1.41425387e-06 -4.76731986e-05 -1.68983783e-05 -5.93137808e-05\n",
      " -3.61667938e-05  3.65293728e-06 -2.47276368e-06 -5.35955637e-05\n",
      " -3.86367931e-05 -8.02424914e-06  6.08841490e-05  4.42289980e-06\n",
      " -8.17529476e-05  2.37583806e-07 -4.75005307e-05 -1.23532677e-06\n",
      " -4.98297762e-04]\n"
     ]
    }
   ],
   "source": [
    "def getCSVMSGrad( theta ):\n",
    "    w = theta[0:-1]\n",
    "    b = theta[-1]\n",
    "    n = y.size\n",
    "    i = random.randint( 0, n-1 )\n",
    "    x = X[i,:]\n",
    "    discriminant = ( x.dot( w ) + b ) * y[i]\n",
    "    g = 0\n",
    "    if discriminant < 1:\n",
    "        g = -1\n",
    "    delb = 2 * C * n * g * y[i] * (1-discriminant)\n",
    "    delw = w + 2 * C * n * (x * g) * y[i] * (1-discriminant)\n",
    "    return np.append( delw, delb )\n",
    "\n",
    "# Quite standard for strongly convex but non-smooth objectives like CSVM\n",
    "def getStepLength( grad, t ):\n",
    "    return eta/(t+1)\n",
    "\n",
    "def getSquareStepLength( grad, t ):\n",
    "    return eta/ math.sqrt(t + 1)\n",
    "\n",
    "def getCSVMObjVal( theta ):\n",
    "    w = theta[0:-1]\n",
    "    b = theta[-1]\n",
    "#     hingeLoss = np.maximum( 1 - np.multiply( (X.dot( w ) + b), y ), 0 )\n",
    "    hingeLoss = np.maximum( 1 - np.multiply( (X.dot( w )), y ), 0 )\n",
    "    return 0.5 * w.dot( w ) + C * np.sum( hingeLoss )\n",
    "\n",
    "# Given a gradient oracle, a step length oracle, an initialization,\n",
    "# perform GD for a specified number of steps (horizon)\n",
    "# An \"oracle\" is a fancy name for a function that does a certain job perfectly\n",
    "def doGD( gradFunc, stepFunc, init, horizon = 10 ):\n",
    "#     objValSeries = np.zeros( (horizon,) )\n",
    "#     timeSeries = np.zeros( (horizon,) )\n",
    "#     totTime = 0\n",
    "    theta = init\n",
    "    cumulative = init\n",
    "    for t in range( horizon ):\n",
    "#         tic = tm.perf_counter()\n",
    "        delta = gradFunc( theta )\n",
    "        theta = theta - stepFunc( delta, t+1 ) * delta\n",
    "        cumulative = cumulative + theta\n",
    "#         toc = tm.perf_counter()\n",
    "#         totTime = totTime + (toc - tic)\n",
    "#         objValSeries[t] = getCSVMObjVal( cumulative/(t+2) )\n",
    "#         timeSeries[t] = totTime\n",
    "#     return (cumulative/(horizon+1), objValSeries, timeSeries)\n",
    "    return cumulative/(horizon+1)\n",
    "\n",
    "def mySVM( X ):\n",
    "    return X.dot(w) + b\n",
    "\n",
    "d=20\n",
    "C = 0.00001\n",
    "eta = 0.00005\n",
    "# B = 10\n",
    "# (theta_SGD, obj_SGD, time_SGD) = doGD( getCSVMSGrad, getStepLength, np.zeros( (d+1,) ), horizon = 500 )\n",
    "theta_SGD=doGD( getCSVMSGrad, getStepLength, np.zeros( (d+1,) ), horizon = 1000 )\n",
    "theta2_SGD=doGD( getCSVMSGrad, getSquareStepLength, np.zeros( (d+1,) ), horizon = 1000 )\n",
    "print (theta_SGD)\n",
    "print (theta2_SGD)"
   ]
  },
  {
   "cell_type": "code",
   "execution_count": 19,
   "metadata": {},
   "outputs": [
    {
     "name": "stdout",
     "output_type": "stream",
     "text": [
      "0.9017803560712142\n",
      "0.04998322692822377\n",
      "0.9017803560712142\n",
      "0.04994211168532528\n",
      "[False False False ... False False False]\n",
      "[False False False ... False False False]\n"
     ]
    }
   ],
   "source": [
    "w=theta_SGD[0:-1]\n",
    "b=theta_SGD[-1]\n",
    "w2=theta2_SGD[0:-1]\n",
    "b2=theta2_SGD[-1]\n",
    "testpoint=np.shape(testX)[0]\n",
    "w_n = LA.norm(w)\n",
    "w2_n = LA.norm(w2)\n",
    "sum=0\n",
    "sum2=0\n",
    "value2=0\n",
    "value=0\n",
    "dottest=np.dot(testX,w) + b\n",
    "dottest2=np.dot(testX,w2) + b2\n",
    "# print (np.shape(testy))\n",
    "for i in range(testpoint):\n",
    "    temp=dottest[i]*testy[i]\n",
    "    if ( temp >= 0 ):\n",
    "        sum += 1\n",
    "    if ( temp < 1 ):\n",
    "        value += C * ( 1 - temp ) * ( 1 - temp )\n",
    "value += w_n * w_n\n",
    "\n",
    "for i in range(testpoint):\n",
    "    temp=dottest2[i]*testy[i]\n",
    "    if ( temp >= 0 ):\n",
    "        sum2 += 1\n",
    "    if ( temp < 1 ):\n",
    "        value2 += C * ( 1 - temp ) * ( 1 - temp )\n",
    "value2 += w2_n * w2_n\n",
    "\n",
    "print (sum/testpoint)\n",
    "print (value)\n",
    "print (sum2/testpoint)\n",
    "print (value2)\n",
    "print (dottest > 0)\n",
    "print (dottest2 > 0)"
   ]
  },
  {
   "cell_type": "code",
   "execution_count": 14,
   "metadata": {},
   "outputs": [
    {
     "data": {
      "text/plain": [
       "3.0"
      ]
     },
     "execution_count": 14,
     "metadata": {},
     "output_type": "execute_result"
    }
   ],
   "source": [
    "a=np.array([[1,2,3],[-1,-2,1]])\n",
    "b=np.array([[1],[2],[2]])\n",
    "np.dot(a,b)\n",
    "c=np.zeros((10,))\n",
    "LA.norm(c+4)\n",
    "math.sqrt(9)"
   ]
  },
  {
   "cell_type": "code",
   "execution_count": null,
   "metadata": {},
   "outputs": [],
   "source": []
  }
 ],
 "metadata": {
  "kernelspec": {
   "display_name": "Python 3",
   "language": "python",
   "name": "python3"
  },
  "language_info": {
   "codemirror_mode": {
    "name": "ipython",
    "version": 3
   },
   "file_extension": ".py",
   "mimetype": "text/x-python",
   "name": "python",
   "nbconvert_exporter": "python",
   "pygments_lexer": "ipython3",
   "version": "3.7.3"
  }
 },
 "nbformat": 4,
 "nbformat_minor": 2
}
